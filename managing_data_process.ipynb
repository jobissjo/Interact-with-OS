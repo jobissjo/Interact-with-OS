{
 "cells": [
  {
   "cell_type": "code",
   "execution_count": 3,
   "metadata": {},
   "outputs": [
    {
     "name": "stdout",
     "output_type": "stream",
     "text": [
      "Hello, jobi\n"
     ]
    }
   ],
   "source": [
    "# !cat hello.py\n",
    "#!/usr/bin/env python3\n",
    "\n",
    "name = input(\"Please enter your name: \")\n",
    "print(\"Hello, \" + name)"
   ]
  },
  {
   "cell_type": "code",
   "execution_count": 4,
   "metadata": {},
   "outputs": [
    {
     "name": "stdout",
     "output_type": "stream",
     "text": [
      "Welcome to this time converter\n",
      "That's 9015 seconds\n",
      "\n",
      "Goodbye!\n"
     ]
    }
   ],
   "source": [
    "def to_seconds(hours, minutes, seconds):\n",
    "    return hours*3600+minutes*60+seconds\n",
    "\n",
    "print(\"Welcome to this time converter\")\n",
    "\n",
    "cont = \"y\"\n",
    "while(cont.lower() == \"y\"):\n",
    "    hours = int(input(\"Enter the number of hours: \"))\n",
    "    minutes = int(input(\"Enter the number of minutes: \"))\n",
    "    seconds = int(input(\"Enter the number of seconds: \"))\n",
    "\n",
    "    print(\"That's {} seconds\".format(to_seconds(hours, minutes, seconds)))\n",
    "    print()\n",
    "    cont = input(\"Do you want to do another conversion? [y to continue] \")\n",
    "    \n",
    "print(\"Goodbye!\")"
   ]
  }
 ],
 "metadata": {
  "kernelspec": {
   "display_name": "Python 3",
   "language": "python",
   "name": "python3"
  },
  "language_info": {
   "codemirror_mode": {
    "name": "ipython",
    "version": 3
   },
   "file_extension": ".py",
   "mimetype": "text/x-python",
   "name": "python",
   "nbconvert_exporter": "python",
   "pygments_lexer": "ipython3",
   "version": "3.10.13"
  }
 },
 "nbformat": 4,
 "nbformat_minor": 2
}
